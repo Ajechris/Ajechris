{
 "cells": [
  {
   "cell_type": "code",
   "execution_count": 1,
   "id": "beebaf49",
   "metadata": {},
   "outputs": [],
   "source": [
    "# Import all dependencies/Packages/ Modules\n",
    "\n",
    "import numpy as np\n",
    "import pandas as pd\n",
    "import matplotlib.pyplot as plt\n",
    "import seaborn as sns\n",
    "\n",
    "from sklearn.model_selection import train_test_split\n",
    "from sklearn.linear_model import LogisticRegression\n",
    "from sklearn.metrics import accuracy_score"
   ]
  },
  {
   "cell_type": "code",
   "execution_count": 2,
   "id": "7bb62dd6",
   "metadata": {},
   "outputs": [],
   "source": [
    "# Data collection\n",
    "\n",
    "train_data = pd.read_csv(\"C:\\\\Users\\\\hp\\\\OneDrive\\\\Documents\\\\Data Science\\\\anime_ratings_data.csv\")"
   ]
  },
  {
   "cell_type": "code",
   "execution_count": 4,
   "id": "1abddf71",
   "metadata": {},
   "outputs": [
    {
     "data": {
      "text/html": [
       "<div>\n",
       "<style scoped>\n",
       "    .dataframe tbody tr th:only-of-type {\n",
       "        vertical-align: middle;\n",
       "    }\n",
       "\n",
       "    .dataframe tbody tr th {\n",
       "        vertical-align: top;\n",
       "    }\n",
       "\n",
       "    .dataframe thead th {\n",
       "        text-align: right;\n",
       "    }\n",
       "</style>\n",
       "<table border=\"1\" class=\"dataframe\">\n",
       "  <thead>\n",
       "    <tr style=\"text-align: right;\">\n",
       "      <th></th>\n",
       "      <th>title</th>\n",
       "      <th>mediaType</th>\n",
       "      <th>eps</th>\n",
       "      <th>duration</th>\n",
       "      <th>startYr</th>\n",
       "      <th>finishYr</th>\n",
       "      <th>description</th>\n",
       "      <th>contentWarn</th>\n",
       "      <th>watched</th>\n",
       "      <th>watching</th>\n",
       "      <th>rating</th>\n",
       "      <th>votes</th>\n",
       "      <th>studio_primary</th>\n",
       "      <th>studios_colab</th>\n",
       "      <th>genre</th>\n",
       "    </tr>\n",
       "  </thead>\n",
       "  <tbody>\n",
       "    <tr>\n",
       "      <th>0</th>\n",
       "      <td>Dragon Ball Z Movie 15: Resurrection 'F'</td>\n",
       "      <td>Movie</td>\n",
       "      <td>1</td>\n",
       "      <td>67.0</td>\n",
       "      <td>2015</td>\n",
       "      <td>2015</td>\n",
       "      <td>Even the complete obliteration of his physical...</td>\n",
       "      <td>No</td>\n",
       "      <td>4649</td>\n",
       "      <td>86</td>\n",
       "      <td>3.979</td>\n",
       "      <td>3100.0</td>\n",
       "      <td>Toei Animation</td>\n",
       "      <td>No</td>\n",
       "      <td>Other</td>\n",
       "    </tr>\n",
       "    <tr>\n",
       "      <th>1</th>\n",
       "      <td>Kuripuri*Kuripura</td>\n",
       "      <td>Movie</td>\n",
       "      <td>1</td>\n",
       "      <td>5.0</td>\n",
       "      <td>2008</td>\n",
       "      <td>2008</td>\n",
       "      <td>NaN</td>\n",
       "      <td>No</td>\n",
       "      <td>10</td>\n",
       "      <td>0</td>\n",
       "      <td>2.120</td>\n",
       "      <td>10.0</td>\n",
       "      <td>Others</td>\n",
       "      <td>No</td>\n",
       "      <td>Other</td>\n",
       "    </tr>\n",
       "    <tr>\n",
       "      <th>2</th>\n",
       "      <td>GJ-bu@</td>\n",
       "      <td>TV Special</td>\n",
       "      <td>1</td>\n",
       "      <td>46.0</td>\n",
       "      <td>2014</td>\n",
       "      <td>2014</td>\n",
       "      <td>The story is set during the spring vacation im...</td>\n",
       "      <td>No</td>\n",
       "      <td>1630</td>\n",
       "      <td>16</td>\n",
       "      <td>3.758</td>\n",
       "      <td>1103.0</td>\n",
       "      <td>Others</td>\n",
       "      <td>No</td>\n",
       "      <td>Other</td>\n",
       "    </tr>\n",
       "    <tr>\n",
       "      <th>3</th>\n",
       "      <td>Nausicaa of the Valley of the Wind</td>\n",
       "      <td>Movie</td>\n",
       "      <td>1</td>\n",
       "      <td>67.0</td>\n",
       "      <td>1984</td>\n",
       "      <td>1984</td>\n",
       "      <td>One thousand years after the Giant Warriors ca...</td>\n",
       "      <td>No</td>\n",
       "      <td>4649</td>\n",
       "      <td>184</td>\n",
       "      <td>4.444</td>\n",
       "      <td>3100.0</td>\n",
       "      <td>Others</td>\n",
       "      <td>No</td>\n",
       "      <td>Drama</td>\n",
       "    </tr>\n",
       "    <tr>\n",
       "      <th>4</th>\n",
       "      <td>Miru Tights Special</td>\n",
       "      <td>DVD Special</td>\n",
       "      <td>1</td>\n",
       "      <td>4.0</td>\n",
       "      <td>2019</td>\n",
       "      <td>2019</td>\n",
       "      <td>Yua is asked to model an illustrator's designs...</td>\n",
       "      <td>No</td>\n",
       "      <td>346</td>\n",
       "      <td>8</td>\n",
       "      <td>2.494</td>\n",
       "      <td>234.0</td>\n",
       "      <td>Others</td>\n",
       "      <td>No</td>\n",
       "      <td>Other</td>\n",
       "    </tr>\n",
       "    <tr>\n",
       "      <th>5</th>\n",
       "      <td>Da Capo Second Season</td>\n",
       "      <td>TV</td>\n",
       "      <td>26</td>\n",
       "      <td>5.0</td>\n",
       "      <td>2005</td>\n",
       "      <td>2005</td>\n",
       "      <td>Hatsune-Jima, a city once known for their ever...</td>\n",
       "      <td>No</td>\n",
       "      <td>4649</td>\n",
       "      <td>187</td>\n",
       "      <td>3.520</td>\n",
       "      <td>3100.0</td>\n",
       "      <td>Others</td>\n",
       "      <td>No</td>\n",
       "      <td>Other</td>\n",
       "    </tr>\n",
       "  </tbody>\n",
       "</table>\n",
       "</div>"
      ],
      "text/plain": [
       "                                      title    mediaType  eps  duration  \\\n",
       "0  Dragon Ball Z Movie 15: Resurrection 'F'        Movie    1      67.0   \n",
       "1                         Kuripuri*Kuripura        Movie    1       5.0   \n",
       "2                                    GJ-bu@   TV Special    1      46.0   \n",
       "3        Nausicaa of the Valley of the Wind        Movie    1      67.0   \n",
       "4                       Miru Tights Special  DVD Special    1       4.0   \n",
       "5                     Da Capo Second Season           TV   26       5.0   \n",
       "\n",
       "   startYr  finishYr                                        description  \\\n",
       "0     2015      2015  Even the complete obliteration of his physical...   \n",
       "1     2008      2008                                                NaN   \n",
       "2     2014      2014  The story is set during the spring vacation im...   \n",
       "3     1984      1984  One thousand years after the Giant Warriors ca...   \n",
       "4     2019      2019  Yua is asked to model an illustrator's designs...   \n",
       "5     2005      2005  Hatsune-Jima, a city once known for their ever...   \n",
       "\n",
       "  contentWarn  watched  watching  rating   votes  studio_primary  \\\n",
       "0          No     4649        86   3.979  3100.0  Toei Animation   \n",
       "1          No       10         0   2.120    10.0          Others   \n",
       "2          No     1630        16   3.758  1103.0          Others   \n",
       "3          No     4649       184   4.444  3100.0          Others   \n",
       "4          No      346         8   2.494   234.0          Others   \n",
       "5          No     4649       187   3.520  3100.0          Others   \n",
       "\n",
       "  studios_colab  genre  \n",
       "0            No  Other  \n",
       "1            No  Other  \n",
       "2            No  Other  \n",
       "3            No  Drama  \n",
       "4            No  Other  \n",
       "5            No  Other  "
      ]
     },
     "execution_count": 4,
     "metadata": {},
     "output_type": "execute_result"
    }
   ],
   "source": [
    "# Checking the data\n",
    "\n",
    "train_data.head(6)"
   ]
  },
  {
   "cell_type": "code",
   "execution_count": 18,
   "id": "b5757746",
   "metadata": {},
   "outputs": [
    {
     "data": {
      "text/plain": [
       "(Other               5468\n",
       " Adventure            267\n",
       " Romance              198\n",
       " Drama                152\n",
       " Sci Fi               128\n",
       " Comedy                98\n",
       " Fantasy               84\n",
       " Action                78\n",
       " Based on a Manga      50\n",
       " Name: genre, dtype: int64,\n",
       " No     5825\n",
       " Yes     698\n",
       " Name: contentWarn, dtype: int64)"
      ]
     },
     "execution_count": 18,
     "metadata": {},
     "output_type": "execute_result"
    }
   ],
   "source": [
    "train_data.genre.value_counts(), train_data.contentWarn.value_counts()"
   ]
  },
  {
   "cell_type": "code",
   "execution_count": 5,
   "id": "dffcfa7b",
   "metadata": {},
   "outputs": [
    {
     "name": "stdout",
     "output_type": "stream",
     "text": [
      "<class 'pandas.core.frame.DataFrame'>\n",
      "RangeIndex: 6523 entries, 0 to 6522\n",
      "Data columns (total 15 columns):\n",
      " #   Column          Non-Null Count  Dtype  \n",
      "---  ------          --------------  -----  \n",
      " 0   title           6523 non-null   object \n",
      " 1   mediaType       6496 non-null   object \n",
      " 2   eps             6523 non-null   int64  \n",
      " 3   duration        6248 non-null   float64\n",
      " 4   startYr         6523 non-null   int64  \n",
      " 5   finishYr        6523 non-null   int64  \n",
      " 6   description     4114 non-null   object \n",
      " 7   contentWarn     6523 non-null   object \n",
      " 8   watched         6523 non-null   int64  \n",
      " 9   watching        6523 non-null   int64  \n",
      " 10  rating          6523 non-null   float64\n",
      " 11  votes           6496 non-null   float64\n",
      " 12  studio_primary  6523 non-null   object \n",
      " 13  studios_colab   6523 non-null   object \n",
      " 14  genre           6523 non-null   object \n",
      "dtypes: float64(3), int64(5), object(7)\n",
      "memory usage: 764.5+ KB\n"
     ]
    }
   ],
   "source": [
    "train_data.info()"
   ]
  },
  {
   "cell_type": "code",
   "execution_count": 6,
   "id": "e71a94ba",
   "metadata": {},
   "outputs": [
    {
     "data": {
      "text/plain": [
       "title                0\n",
       "mediaType           27\n",
       "eps                  0\n",
       "duration           275\n",
       "startYr              0\n",
       "finishYr             0\n",
       "description       2409\n",
       "contentWarn          0\n",
       "watched              0\n",
       "watching             0\n",
       "rating               0\n",
       "votes               27\n",
       "studio_primary       0\n",
       "studios_colab        0\n",
       "genre                0\n",
       "dtype: int64"
      ]
     },
     "execution_count": 6,
     "metadata": {},
     "output_type": "execute_result"
    }
   ],
   "source": [
    "# Checking for missing values\n",
    "\n",
    "train_data.isna().sum()"
   ]
  },
  {
   "cell_type": "code",
   "execution_count": 7,
   "id": "def770c8",
   "metadata": {},
   "outputs": [],
   "source": [
    "# Handling missing values\n",
    "\n",
    "# 1. Drop the columns\n",
    "# 2. replace missing values\n",
    "\n",
    "train_data = train_data.drop(columns='description', axis=1)"
   ]
  },
  {
   "cell_type": "code",
   "execution_count": 8,
   "id": "7da6cb59",
   "metadata": {},
   "outputs": [
    {
     "data": {
      "text/html": [
       "<div>\n",
       "<style scoped>\n",
       "    .dataframe tbody tr th:only-of-type {\n",
       "        vertical-align: middle;\n",
       "    }\n",
       "\n",
       "    .dataframe tbody tr th {\n",
       "        vertical-align: top;\n",
       "    }\n",
       "\n",
       "    .dataframe thead th {\n",
       "        text-align: right;\n",
       "    }\n",
       "</style>\n",
       "<table border=\"1\" class=\"dataframe\">\n",
       "  <thead>\n",
       "    <tr style=\"text-align: right;\">\n",
       "      <th></th>\n",
       "      <th>title</th>\n",
       "      <th>mediaType</th>\n",
       "      <th>eps</th>\n",
       "      <th>duration</th>\n",
       "      <th>startYr</th>\n",
       "      <th>finishYr</th>\n",
       "      <th>contentWarn</th>\n",
       "      <th>watched</th>\n",
       "      <th>watching</th>\n",
       "      <th>rating</th>\n",
       "      <th>votes</th>\n",
       "      <th>studio_primary</th>\n",
       "      <th>studios_colab</th>\n",
       "      <th>genre</th>\n",
       "    </tr>\n",
       "  </thead>\n",
       "  <tbody>\n",
       "    <tr>\n",
       "      <th>0</th>\n",
       "      <td>Dragon Ball Z Movie 15: Resurrection 'F'</td>\n",
       "      <td>Movie</td>\n",
       "      <td>1</td>\n",
       "      <td>67.0</td>\n",
       "      <td>2015</td>\n",
       "      <td>2015</td>\n",
       "      <td>No</td>\n",
       "      <td>4649</td>\n",
       "      <td>86</td>\n",
       "      <td>3.979</td>\n",
       "      <td>3100.0</td>\n",
       "      <td>Toei Animation</td>\n",
       "      <td>No</td>\n",
       "      <td>Other</td>\n",
       "    </tr>\n",
       "    <tr>\n",
       "      <th>1</th>\n",
       "      <td>Kuripuri*Kuripura</td>\n",
       "      <td>Movie</td>\n",
       "      <td>1</td>\n",
       "      <td>5.0</td>\n",
       "      <td>2008</td>\n",
       "      <td>2008</td>\n",
       "      <td>No</td>\n",
       "      <td>10</td>\n",
       "      <td>0</td>\n",
       "      <td>2.120</td>\n",
       "      <td>10.0</td>\n",
       "      <td>Others</td>\n",
       "      <td>No</td>\n",
       "      <td>Other</td>\n",
       "    </tr>\n",
       "    <tr>\n",
       "      <th>2</th>\n",
       "      <td>GJ-bu@</td>\n",
       "      <td>TV Special</td>\n",
       "      <td>1</td>\n",
       "      <td>46.0</td>\n",
       "      <td>2014</td>\n",
       "      <td>2014</td>\n",
       "      <td>No</td>\n",
       "      <td>1630</td>\n",
       "      <td>16</td>\n",
       "      <td>3.758</td>\n",
       "      <td>1103.0</td>\n",
       "      <td>Others</td>\n",
       "      <td>No</td>\n",
       "      <td>Other</td>\n",
       "    </tr>\n",
       "    <tr>\n",
       "      <th>3</th>\n",
       "      <td>Nausicaa of the Valley of the Wind</td>\n",
       "      <td>Movie</td>\n",
       "      <td>1</td>\n",
       "      <td>67.0</td>\n",
       "      <td>1984</td>\n",
       "      <td>1984</td>\n",
       "      <td>No</td>\n",
       "      <td>4649</td>\n",
       "      <td>184</td>\n",
       "      <td>4.444</td>\n",
       "      <td>3100.0</td>\n",
       "      <td>Others</td>\n",
       "      <td>No</td>\n",
       "      <td>Drama</td>\n",
       "    </tr>\n",
       "    <tr>\n",
       "      <th>4</th>\n",
       "      <td>Miru Tights Special</td>\n",
       "      <td>DVD Special</td>\n",
       "      <td>1</td>\n",
       "      <td>4.0</td>\n",
       "      <td>2019</td>\n",
       "      <td>2019</td>\n",
       "      <td>No</td>\n",
       "      <td>346</td>\n",
       "      <td>8</td>\n",
       "      <td>2.494</td>\n",
       "      <td>234.0</td>\n",
       "      <td>Others</td>\n",
       "      <td>No</td>\n",
       "      <td>Other</td>\n",
       "    </tr>\n",
       "  </tbody>\n",
       "</table>\n",
       "</div>"
      ],
      "text/plain": [
       "                                      title    mediaType  eps  duration  \\\n",
       "0  Dragon Ball Z Movie 15: Resurrection 'F'        Movie    1      67.0   \n",
       "1                         Kuripuri*Kuripura        Movie    1       5.0   \n",
       "2                                    GJ-bu@   TV Special    1      46.0   \n",
       "3        Nausicaa of the Valley of the Wind        Movie    1      67.0   \n",
       "4                       Miru Tights Special  DVD Special    1       4.0   \n",
       "\n",
       "   startYr  finishYr contentWarn  watched  watching  rating   votes  \\\n",
       "0     2015      2015          No     4649        86   3.979  3100.0   \n",
       "1     2008      2008          No       10         0   2.120    10.0   \n",
       "2     2014      2014          No     1630        16   3.758  1103.0   \n",
       "3     1984      1984          No     4649       184   4.444  3100.0   \n",
       "4     2019      2019          No      346         8   2.494   234.0   \n",
       "\n",
       "   studio_primary studios_colab  genre  \n",
       "0  Toei Animation            No  Other  \n",
       "1          Others            No  Other  \n",
       "2          Others            No  Other  \n",
       "3          Others            No  Drama  \n",
       "4          Others            No  Other  "
      ]
     },
     "execution_count": 8,
     "metadata": {},
     "output_type": "execute_result"
    }
   ],
   "source": [
    "train_data.head()"
   ]
  },
  {
   "cell_type": "code",
   "execution_count": 9,
   "id": "9dae2596",
   "metadata": {},
   "outputs": [],
   "source": [
    "# 2. Replacing missing values\n",
    "\n",
    "# train_data['duration'].mean()\n",
    "\n",
    "\n",
    "train_data['duration'].fillna(train_data['duration'].mean(), inplace=True)"
   ]
  },
  {
   "cell_type": "code",
   "execution_count": 10,
   "id": "7d253771",
   "metadata": {},
   "outputs": [],
   "source": [
    "# train_data['Embarked'].mode()[0]\n",
    "\n",
    "train_data['votes'].fillna(train_data['votes'].mode()[0], inplace=True)\n",
    "train_data['mediaType'].fillna(train_data['mediaType'].mode()[0], inplace=True)"
   ]
  },
  {
   "cell_type": "code",
   "execution_count": 11,
   "id": "5d6d67d0",
   "metadata": {},
   "outputs": [
    {
     "data": {
      "text/html": [
       "<div>\n",
       "<style scoped>\n",
       "    .dataframe tbody tr th:only-of-type {\n",
       "        vertical-align: middle;\n",
       "    }\n",
       "\n",
       "    .dataframe tbody tr th {\n",
       "        vertical-align: top;\n",
       "    }\n",
       "\n",
       "    .dataframe thead th {\n",
       "        text-align: right;\n",
       "    }\n",
       "</style>\n",
       "<table border=\"1\" class=\"dataframe\">\n",
       "  <thead>\n",
       "    <tr style=\"text-align: right;\">\n",
       "      <th></th>\n",
       "      <th>title</th>\n",
       "      <th>mediaType</th>\n",
       "      <th>eps</th>\n",
       "      <th>duration</th>\n",
       "      <th>startYr</th>\n",
       "      <th>finishYr</th>\n",
       "      <th>contentWarn</th>\n",
       "      <th>watched</th>\n",
       "      <th>watching</th>\n",
       "      <th>rating</th>\n",
       "      <th>votes</th>\n",
       "      <th>studio_primary</th>\n",
       "      <th>studios_colab</th>\n",
       "      <th>genre</th>\n",
       "    </tr>\n",
       "  </thead>\n",
       "  <tbody>\n",
       "    <tr>\n",
       "      <th>0</th>\n",
       "      <td>Dragon Ball Z Movie 15: Resurrection 'F'</td>\n",
       "      <td>Movie</td>\n",
       "      <td>1</td>\n",
       "      <td>67.0</td>\n",
       "      <td>2015</td>\n",
       "      <td>2015</td>\n",
       "      <td>No</td>\n",
       "      <td>4649</td>\n",
       "      <td>86</td>\n",
       "      <td>3.979</td>\n",
       "      <td>3100.0</td>\n",
       "      <td>Toei Animation</td>\n",
       "      <td>No</td>\n",
       "      <td>Other</td>\n",
       "    </tr>\n",
       "    <tr>\n",
       "      <th>1</th>\n",
       "      <td>Kuripuri*Kuripura</td>\n",
       "      <td>Movie</td>\n",
       "      <td>1</td>\n",
       "      <td>5.0</td>\n",
       "      <td>2008</td>\n",
       "      <td>2008</td>\n",
       "      <td>No</td>\n",
       "      <td>10</td>\n",
       "      <td>0</td>\n",
       "      <td>2.120</td>\n",
       "      <td>10.0</td>\n",
       "      <td>Others</td>\n",
       "      <td>No</td>\n",
       "      <td>Other</td>\n",
       "    </tr>\n",
       "    <tr>\n",
       "      <th>2</th>\n",
       "      <td>GJ-bu@</td>\n",
       "      <td>TV Special</td>\n",
       "      <td>1</td>\n",
       "      <td>46.0</td>\n",
       "      <td>2014</td>\n",
       "      <td>2014</td>\n",
       "      <td>No</td>\n",
       "      <td>1630</td>\n",
       "      <td>16</td>\n",
       "      <td>3.758</td>\n",
       "      <td>1103.0</td>\n",
       "      <td>Others</td>\n",
       "      <td>No</td>\n",
       "      <td>Other</td>\n",
       "    </tr>\n",
       "    <tr>\n",
       "      <th>3</th>\n",
       "      <td>Nausicaa of the Valley of the Wind</td>\n",
       "      <td>Movie</td>\n",
       "      <td>1</td>\n",
       "      <td>67.0</td>\n",
       "      <td>1984</td>\n",
       "      <td>1984</td>\n",
       "      <td>No</td>\n",
       "      <td>4649</td>\n",
       "      <td>184</td>\n",
       "      <td>4.444</td>\n",
       "      <td>3100.0</td>\n",
       "      <td>Others</td>\n",
       "      <td>No</td>\n",
       "      <td>Drama</td>\n",
       "    </tr>\n",
       "    <tr>\n",
       "      <th>4</th>\n",
       "      <td>Miru Tights Special</td>\n",
       "      <td>DVD Special</td>\n",
       "      <td>1</td>\n",
       "      <td>4.0</td>\n",
       "      <td>2019</td>\n",
       "      <td>2019</td>\n",
       "      <td>No</td>\n",
       "      <td>346</td>\n",
       "      <td>8</td>\n",
       "      <td>2.494</td>\n",
       "      <td>234.0</td>\n",
       "      <td>Others</td>\n",
       "      <td>No</td>\n",
       "      <td>Other</td>\n",
       "    </tr>\n",
       "  </tbody>\n",
       "</table>\n",
       "</div>"
      ],
      "text/plain": [
       "                                      title    mediaType  eps  duration  \\\n",
       "0  Dragon Ball Z Movie 15: Resurrection 'F'        Movie    1      67.0   \n",
       "1                         Kuripuri*Kuripura        Movie    1       5.0   \n",
       "2                                    GJ-bu@   TV Special    1      46.0   \n",
       "3        Nausicaa of the Valley of the Wind        Movie    1      67.0   \n",
       "4                       Miru Tights Special  DVD Special    1       4.0   \n",
       "\n",
       "   startYr  finishYr contentWarn  watched  watching  rating   votes  \\\n",
       "0     2015      2015          No     4649        86   3.979  3100.0   \n",
       "1     2008      2008          No       10         0   2.120    10.0   \n",
       "2     2014      2014          No     1630        16   3.758  1103.0   \n",
       "3     1984      1984          No     4649       184   4.444  3100.0   \n",
       "4     2019      2019          No      346         8   2.494   234.0   \n",
       "\n",
       "   studio_primary studios_colab  genre  \n",
       "0  Toei Animation            No  Other  \n",
       "1          Others            No  Other  \n",
       "2          Others            No  Other  \n",
       "3          Others            No  Drama  \n",
       "4          Others            No  Other  "
      ]
     },
     "execution_count": 11,
     "metadata": {},
     "output_type": "execute_result"
    }
   ],
   "source": [
    "train_data.head()"
   ]
  },
  {
   "cell_type": "code",
   "execution_count": 12,
   "id": "cd6773d3",
   "metadata": {},
   "outputs": [
    {
     "data": {
      "text/plain": [
       "title             0\n",
       "mediaType         0\n",
       "eps               0\n",
       "duration          0\n",
       "startYr           0\n",
       "finishYr          0\n",
       "contentWarn       0\n",
       "watched           0\n",
       "watching          0\n",
       "rating            0\n",
       "votes             0\n",
       "studio_primary    0\n",
       "studios_colab     0\n",
       "genre             0\n",
       "dtype: int64"
      ]
     },
     "execution_count": 12,
     "metadata": {},
     "output_type": "execute_result"
    }
   ],
   "source": [
    "# Checking for missing data\n",
    "\n",
    "train_data.isna().sum()"
   ]
  },
  {
   "cell_type": "code",
   "execution_count": 13,
   "id": "2a10aaa9",
   "metadata": {},
   "outputs": [
    {
     "data": {
      "text/html": [
       "<div>\n",
       "<style scoped>\n",
       "    .dataframe tbody tr th:only-of-type {\n",
       "        vertical-align: middle;\n",
       "    }\n",
       "\n",
       "    .dataframe tbody tr th {\n",
       "        vertical-align: top;\n",
       "    }\n",
       "\n",
       "    .dataframe thead th {\n",
       "        text-align: right;\n",
       "    }\n",
       "</style>\n",
       "<table border=\"1\" class=\"dataframe\">\n",
       "  <thead>\n",
       "    <tr style=\"text-align: right;\">\n",
       "      <th></th>\n",
       "      <th>eps</th>\n",
       "      <th>duration</th>\n",
       "      <th>startYr</th>\n",
       "      <th>finishYr</th>\n",
       "      <th>watched</th>\n",
       "      <th>watching</th>\n",
       "      <th>rating</th>\n",
       "      <th>votes</th>\n",
       "    </tr>\n",
       "  </thead>\n",
       "  <tbody>\n",
       "    <tr>\n",
       "      <th>count</th>\n",
       "      <td>6523.000000</td>\n",
       "      <td>6523.000000</td>\n",
       "      <td>6523.000000</td>\n",
       "      <td>6523.000000</td>\n",
       "      <td>6523.000000</td>\n",
       "      <td>6523.000000</td>\n",
       "      <td>6523.000000</td>\n",
       "      <td>6523.000000</td>\n",
       "    </tr>\n",
       "    <tr>\n",
       "      <th>mean</th>\n",
       "      <td>8.716235</td>\n",
       "      <td>18.396287</td>\n",
       "      <td>2005.241147</td>\n",
       "      <td>2005.575349</td>\n",
       "      <td>1347.948643</td>\n",
       "      <td>57.445654</td>\n",
       "      <td>2.962553</td>\n",
       "      <td>915.333589</td>\n",
       "    </tr>\n",
       "    <tr>\n",
       "      <th>std</th>\n",
       "      <td>11.002479</td>\n",
       "      <td>20.502929</td>\n",
       "      <td>12.911035</td>\n",
       "      <td>12.568169</td>\n",
       "      <td>1737.138112</td>\n",
       "      <td>76.527405</td>\n",
       "      <td>0.760486</td>\n",
       "      <td>1177.703621</td>\n",
       "    </tr>\n",
       "    <tr>\n",
       "      <th>min</th>\n",
       "      <td>1.000000</td>\n",
       "      <td>1.000000</td>\n",
       "      <td>1967.000000</td>\n",
       "      <td>1970.000000</td>\n",
       "      <td>5.000000</td>\n",
       "      <td>0.000000</td>\n",
       "      <td>1.111000</td>\n",
       "      <td>10.000000</td>\n",
       "    </tr>\n",
       "    <tr>\n",
       "      <th>25%</th>\n",
       "      <td>1.000000</td>\n",
       "      <td>5.000000</td>\n",
       "      <td>2000.000000</td>\n",
       "      <td>2000.000000</td>\n",
       "      <td>56.000000</td>\n",
       "      <td>2.000000</td>\n",
       "      <td>2.371000</td>\n",
       "      <td>35.000000</td>\n",
       "    </tr>\n",
       "    <tr>\n",
       "      <th>50%</th>\n",
       "      <td>1.000000</td>\n",
       "      <td>8.000000</td>\n",
       "      <td>2010.000000</td>\n",
       "      <td>2010.000000</td>\n",
       "      <td>349.000000</td>\n",
       "      <td>13.000000</td>\n",
       "      <td>2.944000</td>\n",
       "      <td>231.000000</td>\n",
       "    </tr>\n",
       "    <tr>\n",
       "      <th>75%</th>\n",
       "      <td>12.000000</td>\n",
       "      <td>25.000000</td>\n",
       "      <td>2015.000000</td>\n",
       "      <td>2015.000000</td>\n",
       "      <td>2252.500000</td>\n",
       "      <td>98.000000</td>\n",
       "      <td>3.568000</td>\n",
       "      <td>1607.500000</td>\n",
       "    </tr>\n",
       "    <tr>\n",
       "      <th>max</th>\n",
       "      <td>34.000000</td>\n",
       "      <td>67.000000</td>\n",
       "      <td>2020.000000</td>\n",
       "      <td>2020.000000</td>\n",
       "      <td>4649.000000</td>\n",
       "      <td>199.000000</td>\n",
       "      <td>4.702000</td>\n",
       "      <td>3100.000000</td>\n",
       "    </tr>\n",
       "  </tbody>\n",
       "</table>\n",
       "</div>"
      ],
      "text/plain": [
       "               eps     duration      startYr     finishYr      watched  \\\n",
       "count  6523.000000  6523.000000  6523.000000  6523.000000  6523.000000   \n",
       "mean      8.716235    18.396287  2005.241147  2005.575349  1347.948643   \n",
       "std      11.002479    20.502929    12.911035    12.568169  1737.138112   \n",
       "min       1.000000     1.000000  1967.000000  1970.000000     5.000000   \n",
       "25%       1.000000     5.000000  2000.000000  2000.000000    56.000000   \n",
       "50%       1.000000     8.000000  2010.000000  2010.000000   349.000000   \n",
       "75%      12.000000    25.000000  2015.000000  2015.000000  2252.500000   \n",
       "max      34.000000    67.000000  2020.000000  2020.000000  4649.000000   \n",
       "\n",
       "          watching       rating        votes  \n",
       "count  6523.000000  6523.000000  6523.000000  \n",
       "mean     57.445654     2.962553   915.333589  \n",
       "std      76.527405     0.760486  1177.703621  \n",
       "min       0.000000     1.111000    10.000000  \n",
       "25%       2.000000     2.371000    35.000000  \n",
       "50%      13.000000     2.944000   231.000000  \n",
       "75%      98.000000     3.568000  1607.500000  \n",
       "max     199.000000     4.702000  3100.000000  "
      ]
     },
     "execution_count": 13,
     "metadata": {},
     "output_type": "execute_result"
    }
   ],
   "source": [
    "# brief summary/stats of our dataset\n",
    "\n",
    "train_data.describe()"
   ]
  },
  {
   "cell_type": "markdown",
   "id": "deab61a7",
   "metadata": {},
   "source": [
    "## EDA"
   ]
  },
  {
   "cell_type": "code",
   "execution_count": 25,
   "id": "dc06cdb4",
   "metadata": {},
   "outputs": [
    {
     "data": {
      "image/png": "[encoded data removed]",
      "text/plain": [
       "<Figure size 640x480 with 1 Axes>"
      ]
     },
     "metadata": {},
     "output_type": "display_data"
    }
   ],
   "source": [
    "sns.countplot(y ='mediaType', data=train_data);"
   ]
  },
  {
   "cell_type": "code",
   "execution_count": 24,
   "id": "c7293398",
   "metadata": {},
   "outputs": [
    {
     "data": {
      "image/png": "[encoded data removed]",
      "text/plain": [
       "<Figure size 640x480 with 1 Axes>"
      ]
     },
     "metadata": {},
     "output_type": "display_data"
    }
   ],
   "source": [
    "sns.countplot(y = 'genre', data=train_data);"
   ]
  },
  {
   "cell_type": "code",
   "execution_count": 42,
   "id": "4903a8a2",
   "metadata": {},
   "outputs": [
    {
     "data": {
      "image/png": "[encoded data removed]",
      "text/plain": [
       "<Figure size 640x480 with 1 Axes>"
      ]
     },
     "metadata": {},
     "output_type": "display_data"
    }
   ],
   "source": [
    "sns.histplot(y = 'watching', data=train_data, hue = 'genre');"
   ]
  },
  {
   "cell_type": "code",
   "execution_count": 43,
   "id": "b770070b",
   "metadata": {},
   "outputs": [
    {
     "data": {
      "image/png": "[encoded data removed]",
      "text/plain": [
       "<Figure size 640x480 with 1 Axes>"
      ]
     },
     "metadata": {},
     "output_type": "display_data"
    }
   ],
   "source": [
    "sns.histplot(y = 'watched', data=train_data, hue = 'genre');"
   ]
  },
  {
   "cell_type": "code",
   "execution_count": 46,
   "id": "7009d456",
   "metadata": {},
   "outputs": [
    {
     "data": {
      "image/png": "[encoded data removed]",
      "text/plain": [
       "<Figure size 640x480 with 1 Axes>"
      ]
     },
     "metadata": {},
     "output_type": "display_data"
    }
   ],
   "source": [
    "sns.histplot(x = 'eps', data=train_data, hue = 'genre');"
   ]
  },
  {
   "cell_type": "code",
   "execution_count": 63,
   "id": "bf369554",
   "metadata": {},
   "outputs": [
    {
     "data": {
      "image/png": "[encoded data removed]",
      "text/plain": [
       "<Figure size 1000x1200 with 1 Axes>"
      ]
     },
     "metadata": {},
     "output_type": "display_data"
    }
   ],
   "source": [
    "a = sns.countplot(y ='mediaType', hue = 'genre', data=train_data)\n"
   ]
  },
  {
   "cell_type": "code",
   "execution_count": 67,
   "id": "b188742d",
   "metadata": {},
   "outputs": [
    {
     "data": {
      "text/plain": [
       "Index(['title', 'mediaType', 'eps', 'duration', 'startYr', 'finishYr',\n",
       "       'contentWarn', 'watched', 'watching', 'rating', 'votes',\n",
       "       'studio_primary', 'studios_colab', 'genre'],\n",
       "      dtype='object')"
      ]
     },
     "execution_count": 67,
     "metadata": {},
     "output_type": "execute_result"
    }
   ],
   "source": [
    "train_data.columns"
   ]
  },
  {
   "cell_type": "code",
   "execution_count": 68,
   "id": "9fdc1ca5",
   "metadata": {},
   "outputs": [],
   "source": [
    "train_data = train_data.drop(columns= ['title', 'studio_primary', 'studios_colab'], axis=1)"
   ]
  },
  {
   "cell_type": "markdown",
   "id": "dd7ff04b",
   "metadata": {},
   "source": [
    "# Resolving Categorical Values"
   ]
  },
  {
   "cell_type": "code",
   "execution_count": 76,
   "id": "d22bf423",
   "metadata": {},
   "outputs": [
    {
     "data": {
      "text/plain": [
       "TV             2172\n",
       "Movie          1085\n",
       "OVA             933\n",
       "Music Video     674\n",
       "Web             590\n",
       "DVD Special     457\n",
       "Other           320\n",
       "TV Special      292\n",
       "Name: mediaType, dtype: int64"
      ]
     },
     "execution_count": 76,
     "metadata": {},
     "output_type": "execute_result"
    }
   ],
   "source": [
    "# Resolving Categorical Values\n",
    "train_data.mediaType.value_counts()"
   ]
  },
  {
   "cell_type": "code",
   "execution_count": 74,
   "id": "edddf452",
   "metadata": {},
   "outputs": [
    {
     "data": {
      "text/plain": [
       "No     5825\n",
       "Yes     698\n",
       "Name: contentWarn, dtype: int64"
      ]
     },
     "execution_count": 74,
     "metadata": {},
     "output_type": "execute_result"
    }
   ],
   "source": [
    "train_data.contentWarn.value_counts()"
   ]
  },
  {
   "cell_type": "code",
   "execution_count": 75,
   "id": "19f57040",
   "metadata": {},
   "outputs": [
    {
     "data": {
      "text/plain": [
       "Other               5468\n",
       "Adventure            267\n",
       "Romance              198\n",
       "Drama                152\n",
       "Sci Fi               128\n",
       "Comedy                98\n",
       "Fantasy               84\n",
       "Action                78\n",
       "Based on a Manga      50\n",
       "Name: genre, dtype: int64"
      ]
     },
     "execution_count": 75,
     "metadata": {},
     "output_type": "execute_result"
    }
   ],
   "source": [
    "train_data.genre.value_counts()"
   ]
  },
  {
   "cell_type": "code",
   "execution_count": 88,
   "id": "eef73ecd",
   "metadata": {},
   "outputs": [],
   "source": [
    "train_data.replace({'contentWarn': {'Yes':0, 'No':1}, 'genre': {\"Other\":0, \"Adventure\":1, \"Romance \":2,\n",
    "                                                              \"Drama\":3, \"Sci Fi\":4, \"Comedy\":5, \"Fantasy\":6, \"Action\": 7,\n",
    "                                                                \"Based on a Manga\":8, \"Romance\":9  },\n",
    "                   'mediaType': {\"TV\":0, \"Movie\":1, \"OVA\":2, \"Music Video\": 3, \"Web\":4, \"DVD Special\":5,\n",
    "                                \"Other\":6, \"TV Special\": 7}}, inplace=True)"
   ]
  },
  {
   "cell_type": "markdown",
   "id": "f3ed6b1c",
   "metadata": {},
   "source": [
    "## Creating & Training the Model"
   ]
  },
  {
   "cell_type": "code",
   "execution_count": 89,
   "id": "0c17cb4d",
   "metadata": {},
   "outputs": [
    {
     "data": {
      "text/plain": [
       "Index(['mediaType', 'eps', 'duration', 'startYr', 'finishYr', 'contentWarn',\n",
       "       'watched', 'watching', 'rating', 'votes', 'genre'],\n",
       "      dtype='object')"
      ]
     },
     "execution_count": 89,
     "metadata": {},
     "output_type": "execute_result"
    }
   ],
   "source": [
    "train_data.columns"
   ]
  },
  {
   "cell_type": "code",
   "execution_count": 90,
   "id": "dcb03509",
   "metadata": {},
   "outputs": [],
   "source": [
    "X = train_data.drop(columns=['startYr', 'finishYr', 'rating'], axis=1)\n",
    "y = train_data[\"rating\"]\n",
    "\n"
   ]
  },
  {
   "cell_type": "code",
   "execution_count": 91,
   "id": "5c20ce64",
   "metadata": {},
   "outputs": [
    {
     "data": {
      "text/html": [
       "<div>\n",
       "<style scoped>\n",
       "    .dataframe tbody tr th:only-of-type {\n",
       "        vertical-align: middle;\n",
       "    }\n",
       "\n",
       "    .dataframe tbody tr th {\n",
       "        vertical-align: top;\n",
       "    }\n",
       "\n",
       "    .dataframe thead th {\n",
       "        text-align: right;\n",
       "    }\n",
       "</style>\n",
       "<table border=\"1\" class=\"dataframe\">\n",
       "  <thead>\n",
       "    <tr style=\"text-align: right;\">\n",
       "      <th></th>\n",
       "      <th>mediaType</th>\n",
       "      <th>eps</th>\n",
       "      <th>duration</th>\n",
       "      <th>contentWarn</th>\n",
       "      <th>watched</th>\n",
       "      <th>watching</th>\n",
       "      <th>votes</th>\n",
       "      <th>genre</th>\n",
       "    </tr>\n",
       "  </thead>\n",
       "  <tbody>\n",
       "    <tr>\n",
       "      <th>0</th>\n",
       "      <td>1</td>\n",
       "      <td>1</td>\n",
       "      <td>67.0</td>\n",
       "      <td>1</td>\n",
       "      <td>4649</td>\n",
       "      <td>86</td>\n",
       "      <td>3100.0</td>\n",
       "      <td>0</td>\n",
       "    </tr>\n",
       "    <tr>\n",
       "      <th>1</th>\n",
       "      <td>1</td>\n",
       "      <td>1</td>\n",
       "      <td>5.0</td>\n",
       "      <td>1</td>\n",
       "      <td>10</td>\n",
       "      <td>0</td>\n",
       "      <td>10.0</td>\n",
       "      <td>0</td>\n",
       "    </tr>\n",
       "    <tr>\n",
       "      <th>2</th>\n",
       "      <td>7</td>\n",
       "      <td>1</td>\n",
       "      <td>46.0</td>\n",
       "      <td>1</td>\n",
       "      <td>1630</td>\n",
       "      <td>16</td>\n",
       "      <td>1103.0</td>\n",
       "      <td>0</td>\n",
       "    </tr>\n",
       "    <tr>\n",
       "      <th>3</th>\n",
       "      <td>1</td>\n",
       "      <td>1</td>\n",
       "      <td>67.0</td>\n",
       "      <td>1</td>\n",
       "      <td>4649</td>\n",
       "      <td>184</td>\n",
       "      <td>3100.0</td>\n",
       "      <td>3</td>\n",
       "    </tr>\n",
       "    <tr>\n",
       "      <th>4</th>\n",
       "      <td>5</td>\n",
       "      <td>1</td>\n",
       "      <td>4.0</td>\n",
       "      <td>1</td>\n",
       "      <td>346</td>\n",
       "      <td>8</td>\n",
       "      <td>234.0</td>\n",
       "      <td>0</td>\n",
       "    </tr>\n",
       "  </tbody>\n",
       "</table>\n",
       "</div>"
      ],
      "text/plain": [
       "   mediaType  eps  duration  contentWarn  watched  watching   votes  genre\n",
       "0          1    1      67.0            1     4649        86  3100.0      0\n",
       "1          1    1       5.0            1       10         0    10.0      0\n",
       "2          7    1      46.0            1     1630        16  1103.0      0\n",
       "3          1    1      67.0            1     4649       184  3100.0      3\n",
       "4          5    1       4.0            1      346         8   234.0      0"
      ]
     },
     "execution_count": 91,
     "metadata": {},
     "output_type": "execute_result"
    }
   ],
   "source": [
    "X.head()"
   ]
  },
  {
   "cell_type": "code",
   "execution_count": 92,
   "id": "fb11a5c4",
   "metadata": {},
   "outputs": [
    {
     "data": {
      "text/plain": [
       "0    3.979\n",
       "1    2.120\n",
       "2    3.758\n",
       "3    4.444\n",
       "4    2.494\n",
       "Name: rating, dtype: float64"
      ]
     },
     "execution_count": 92,
     "metadata": {},
     "output_type": "execute_result"
    }
   ],
   "source": [
    "y.head()"
   ]
  },
  {
   "cell_type": "code",
   "execution_count": 93,
   "id": "95540609",
   "metadata": {},
   "outputs": [],
   "source": [
    "# Splitting data set\n",
    "\n",
    "X_train, X_test, y_train, y_test = train_test_split(X, y, test_size=0.15, random_state=3)"
   ]
  },
  {
   "cell_type": "code",
   "execution_count": 94,
   "id": "cf9909c8",
   "metadata": {},
   "outputs": [
    {
     "data": {
      "text/plain": [
       "((5544, 8), (979, 8))"
      ]
     },
     "execution_count": 94,
     "metadata": {},
     "output_type": "execute_result"
    }
   ],
   "source": [
    "X_train.shape, X_test.shape"
   ]
  },
  {
   "cell_type": "code",
   "execution_count": 95,
   "id": "eb661fda",
   "metadata": {},
   "outputs": [],
   "source": [
    "# Model development\n",
    "\n",
    "model = LogisticRegression()"
   ]
  },
  {
   "cell_type": "code",
   "execution_count": 109,
   "id": "ec63c52d",
   "metadata": {},
   "outputs": [
    {
     "ename": "ValueError",
     "evalue": "Unknown label type: 'continuous'",
     "output_type": "error",
     "traceback": [
      "\u001b[1;31m---------------------------------------------------------------------------\u001b[0m",
      "\u001b[1;31mValueError\u001b[0m                                Traceback (most recent call last)",
      "\u001b[1;32m~\\AppData\\Local\\Temp\\ipykernel_22508\\1857906891.py\u001b[0m in \u001b[0;36m<module>\u001b[1;34m\u001b[0m\n\u001b[0;32m      1\u001b[0m \u001b[1;31m# Model training\u001b[0m\u001b[1;33m\u001b[0m\u001b[1;33m\u001b[0m\u001b[0m\n\u001b[0;32m      2\u001b[0m \u001b[1;33m\u001b[0m\u001b[0m\n\u001b[1;32m----> 3\u001b[1;33m \u001b[0mmodel\u001b[0m\u001b[1;33m.\u001b[0m\u001b[0mfit\u001b[0m\u001b[1;33m(\u001b[0m\u001b[0mX_train\u001b[0m\u001b[1;33m,\u001b[0m \u001b[0my_train\u001b[0m\u001b[1;33m)\u001b[0m\u001b[1;33m\u001b[0m\u001b[1;33m\u001b[0m\u001b[0m\n\u001b[0m",
      "\u001b[1;32m~\\anaconda3\\lib\\site-packages\\sklearn\\linear_model\\_logistic.py\u001b[0m in \u001b[0;36mfit\u001b[1;34m(self, X, y, sample_weight)\u001b[0m\n\u001b[0;32m   1514\u001b[0m             \u001b[0maccept_large_sparse\u001b[0m\u001b[1;33m=\u001b[0m\u001b[0msolver\u001b[0m \u001b[1;32mnot\u001b[0m \u001b[1;32min\u001b[0m \u001b[1;33m[\u001b[0m\u001b[1;34m\"liblinear\"\u001b[0m\u001b[1;33m,\u001b[0m \u001b[1;34m\"sag\"\u001b[0m\u001b[1;33m,\u001b[0m \u001b[1;34m\"saga\"\u001b[0m\u001b[1;33m]\u001b[0m\u001b[1;33m,\u001b[0m\u001b[1;33m\u001b[0m\u001b[1;33m\u001b[0m\u001b[0m\n\u001b[0;32m   1515\u001b[0m         )\n\u001b[1;32m-> 1516\u001b[1;33m         \u001b[0mcheck_classification_targets\u001b[0m\u001b[1;33m(\u001b[0m\u001b[0my\u001b[0m\u001b[1;33m)\u001b[0m\u001b[1;33m\u001b[0m\u001b[1;33m\u001b[0m\u001b[0m\n\u001b[0m\u001b[0;32m   1517\u001b[0m         \u001b[0mself\u001b[0m\u001b[1;33m.\u001b[0m\u001b[0mclasses_\u001b[0m \u001b[1;33m=\u001b[0m \u001b[0mnp\u001b[0m\u001b[1;33m.\u001b[0m\u001b[0munique\u001b[0m\u001b[1;33m(\u001b[0m\u001b[0my\u001b[0m\u001b[1;33m)\u001b[0m\u001b[1;33m\u001b[0m\u001b[1;33m\u001b[0m\u001b[0m\n\u001b[0;32m   1518\u001b[0m \u001b[1;33m\u001b[0m\u001b[0m\n",
      "\u001b[1;32m~\\anaconda3\\lib\\site-packages\\sklearn\\utils\\multiclass.py\u001b[0m in \u001b[0;36mcheck_classification_targets\u001b[1;34m(y)\u001b[0m\n\u001b[0;32m    195\u001b[0m         \u001b[1;34m\"multilabel-sequences\"\u001b[0m\u001b[1;33m,\u001b[0m\u001b[1;33m\u001b[0m\u001b[1;33m\u001b[0m\u001b[0m\n\u001b[0;32m    196\u001b[0m     ]:\n\u001b[1;32m--> 197\u001b[1;33m         \u001b[1;32mraise\u001b[0m \u001b[0mValueError\u001b[0m\u001b[1;33m(\u001b[0m\u001b[1;34m\"Unknown label type: %r\"\u001b[0m \u001b[1;33m%\u001b[0m \u001b[0my_type\u001b[0m\u001b[1;33m)\u001b[0m\u001b[1;33m\u001b[0m\u001b[1;33m\u001b[0m\u001b[0m\n\u001b[0m\u001b[0;32m    198\u001b[0m \u001b[1;33m\u001b[0m\u001b[0m\n\u001b[0;32m    199\u001b[0m \u001b[1;33m\u001b[0m\u001b[0m\n",
      "\u001b[1;31mValueError\u001b[0m: Unknown label type: 'continuous'"
     ]
    }
   ],
   "source": [
    "# Model training\n",
    "\n",
    "model.fit(X_train, y_train)"
   ]
  },
  {
   "cell_type": "code",
   "execution_count": 98,
   "id": "450342b0",
   "metadata": {},
   "outputs": [],
   "source": [
    "from sklearn import preprocessing\n",
    "from sklearn import utils\n",
    "\n",
    "#convert y values to categorical values\n",
    "\n",
    "lab = preprocessing.LabelEncoder()\n",
    "y_transformed = lab.fit_transform(y)\n"
   ]
  },
  {
   "cell_type": "code",
   "execution_count": 115,
   "id": "13a967de",
   "metadata": {},
   "outputs": [],
   "source": [
    "y_int = y_train.astype(int)"
   ]
  },
  {
   "cell_type": "code",
   "execution_count": 113,
   "id": "424f10fa",
   "metadata": {},
   "outputs": [
    {
     "name": "stderr",
     "output_type": "stream",
     "text": [
      "C:\\Users\\hp\\anaconda3\\lib\\site-packages\\sklearn\\linear_model\\_logistic.py:814: ConvergenceWarning: lbfgs failed to converge (status=1):\n",
      "STOP: TOTAL NO. of ITERATIONS REACHED LIMIT.\n",
      "\n",
      "Increase the number of iterations (max_iter) or scale the data as shown in:\n",
      "    https://scikit-learn.org/stable/modules/preprocessing.html\n",
      "Please also refer to the documentation for alternative solver options:\n",
      "    https://scikit-learn.org/stable/modules/linear_model.html#logistic-regression\n",
      "  n_iter_i = _check_optimize_result(\n"
     ]
    },
    {
     "data": {
      "text/plain": [
       "LogisticRegression()"
      ]
     },
     "execution_count": 113,
     "metadata": {},
     "output_type": "execute_result"
    }
   ],
   "source": [
    "# Model training\n",
    "\n",
    "model.fit(X_train, y_int)"
   ]
  },
  {
   "cell_type": "code",
   "execution_count": 116,
   "id": "848930e1",
   "metadata": {},
   "outputs": [],
   "source": [
    "# NMaking prediction\n",
    "\n",
    "predictions = model.predict(X_train)"
   ]
  },
  {
   "cell_type": "code",
   "execution_count": 117,
   "id": "182ca18d",
   "metadata": {},
   "outputs": [
    {
     "data": {
      "text/plain": [
       "array([2, 2, 3, ..., 2, 2, 2])"
      ]
     },
     "execution_count": 117,
     "metadata": {},
     "output_type": "execute_result"
    }
   ],
   "source": [
    "predictions"
   ]
  },
  {
   "cell_type": "code",
   "execution_count": 118,
   "id": "85472ce7",
   "metadata": {},
   "outputs": [],
   "source": [
    "# Accuracy score of our model\n",
    "acc = accuracy_score(y_int, predictions)"
   ]
  },
  {
   "cell_type": "code",
   "execution_count": 119,
   "id": "c6826359",
   "metadata": {},
   "outputs": [
    {
     "name": "stdout",
     "output_type": "stream",
     "text": [
      "The model accuracy is:  57.052669552669556\n"
     ]
    }
   ],
   "source": [
    "print(\"The model accuracy is: \", acc * 100)"
   ]
  },
  {
   "cell_type": "code",
   "execution_count": 120,
   "id": "4cbe183e",
   "metadata": {},
   "outputs": [],
   "source": [
    "test_predictions = model.predict(X_test)"
   ]
  },
  {
   "cell_type": "code",
   "execution_count": 121,
   "id": "e8b8e73b",
   "metadata": {},
   "outputs": [
    {
     "ename": "ValueError",
     "evalue": "Classification metrics can't handle a mix of continuous and multiclass targets",
     "output_type": "error",
     "traceback": [
      "\u001b[1;31m---------------------------------------------------------------------------\u001b[0m",
      "\u001b[1;31mValueError\u001b[0m                                Traceback (most recent call last)",
      "\u001b[1;32m~\\AppData\\Local\\Temp\\ipykernel_22508\\4148410858.py\u001b[0m in \u001b[0;36m<module>\u001b[1;34m\u001b[0m\n\u001b[1;32m----> 1\u001b[1;33m \u001b[0mtest_acc\u001b[0m \u001b[1;33m=\u001b[0m \u001b[0maccuracy_score\u001b[0m\u001b[1;33m(\u001b[0m\u001b[0my_test\u001b[0m\u001b[1;33m,\u001b[0m \u001b[0mtest_predictions\u001b[0m\u001b[1;33m)\u001b[0m\u001b[1;33m\u001b[0m\u001b[1;33m\u001b[0m\u001b[0m\n\u001b[0m",
      "\u001b[1;32m~\\anaconda3\\lib\\site-packages\\sklearn\\metrics\\_classification.py\u001b[0m in \u001b[0;36maccuracy_score\u001b[1;34m(y_true, y_pred, normalize, sample_weight)\u001b[0m\n\u001b[0;32m    209\u001b[0m \u001b[1;33m\u001b[0m\u001b[0m\n\u001b[0;32m    210\u001b[0m     \u001b[1;31m# Compute accuracy for each possible representation\u001b[0m\u001b[1;33m\u001b[0m\u001b[1;33m\u001b[0m\u001b[0m\n\u001b[1;32m--> 211\u001b[1;33m     \u001b[0my_type\u001b[0m\u001b[1;33m,\u001b[0m \u001b[0my_true\u001b[0m\u001b[1;33m,\u001b[0m \u001b[0my_pred\u001b[0m \u001b[1;33m=\u001b[0m \u001b[0m_check_targets\u001b[0m\u001b[1;33m(\u001b[0m\u001b[0my_true\u001b[0m\u001b[1;33m,\u001b[0m \u001b[0my_pred\u001b[0m\u001b[1;33m)\u001b[0m\u001b[1;33m\u001b[0m\u001b[1;33m\u001b[0m\u001b[0m\n\u001b[0m\u001b[0;32m    212\u001b[0m     \u001b[0mcheck_consistent_length\u001b[0m\u001b[1;33m(\u001b[0m\u001b[0my_true\u001b[0m\u001b[1;33m,\u001b[0m \u001b[0my_pred\u001b[0m\u001b[1;33m,\u001b[0m \u001b[0msample_weight\u001b[0m\u001b[1;33m)\u001b[0m\u001b[1;33m\u001b[0m\u001b[1;33m\u001b[0m\u001b[0m\n\u001b[0;32m    213\u001b[0m     \u001b[1;32mif\u001b[0m \u001b[0my_type\u001b[0m\u001b[1;33m.\u001b[0m\u001b[0mstartswith\u001b[0m\u001b[1;33m(\u001b[0m\u001b[1;34m\"multilabel\"\u001b[0m\u001b[1;33m)\u001b[0m\u001b[1;33m:\u001b[0m\u001b[1;33m\u001b[0m\u001b[1;33m\u001b[0m\u001b[0m\n",
      "\u001b[1;32m~\\anaconda3\\lib\\site-packages\\sklearn\\metrics\\_classification.py\u001b[0m in \u001b[0;36m_check_targets\u001b[1;34m(y_true, y_pred)\u001b[0m\n\u001b[0;32m     91\u001b[0m \u001b[1;33m\u001b[0m\u001b[0m\n\u001b[0;32m     92\u001b[0m     \u001b[1;32mif\u001b[0m \u001b[0mlen\u001b[0m\u001b[1;33m(\u001b[0m\u001b[0my_type\u001b[0m\u001b[1;33m)\u001b[0m \u001b[1;33m>\u001b[0m \u001b[1;36m1\u001b[0m\u001b[1;33m:\u001b[0m\u001b[1;33m\u001b[0m\u001b[1;33m\u001b[0m\u001b[0m\n\u001b[1;32m---> 93\u001b[1;33m         raise ValueError(\n\u001b[0m\u001b[0;32m     94\u001b[0m             \"Classification metrics can't handle a mix of {0} and {1} targets\".format(\n\u001b[0;32m     95\u001b[0m                 \u001b[0mtype_true\u001b[0m\u001b[1;33m,\u001b[0m \u001b[0mtype_pred\u001b[0m\u001b[1;33m\u001b[0m\u001b[1;33m\u001b[0m\u001b[0m\n",
      "\u001b[1;31mValueError\u001b[0m: Classification metrics can't handle a mix of continuous and multiclass targets"
     ]
    }
   ],
   "source": [
    "test_acc = accuracy_score(y_test, test_predictions)"
   ]
  },
  {
   "cell_type": "code",
   "execution_count": 122,
   "id": "831a30e2",
   "metadata": {},
   "outputs": [],
   "source": [
    "y_test_int = y_test.astype(int)"
   ]
  },
  {
   "cell_type": "code",
   "execution_count": 123,
   "id": "0a6071f5",
   "metadata": {},
   "outputs": [],
   "source": [
    "test_acc = accuracy_score(y_test_int, test_predictions)"
   ]
  },
  {
   "cell_type": "code",
   "execution_count": 124,
   "id": "72829767",
   "metadata": {},
   "outputs": [
    {
     "name": "stdout",
     "output_type": "stream",
     "text": [
      "The model accuracy on testing set is:  59.34627170582226\n"
     ]
    }
   ],
   "source": [
    "print(\"The model accuracy on testing set is: \", test_acc * 100)"
   ]
  },
  {
   "cell_type": "code",
   "execution_count": null,
   "id": "1d9a4a10",
   "metadata": {},
   "outputs": [],
   "source": []
  },
  {
   "cell_type": "code",
   "execution_count": null,
   "id": "be4a6f03",
   "metadata": {},
   "outputs": [],
   "source": []
  }
 ],
 "metadata": {
  "kernelspec": {
   "display_name": "Python 3 (ipykernel)",
   "language": "python",
   "name": "python3"
  },
  "language_info": {
   "codemirror_mode": {
    "name": "ipython",
    "version": 3
   },
   "file_extension": ".py",
   "mimetype": "text/x-python",
   "name": "python",
   "nbconvert_exporter": "python",
   "pygments_lexer": "ipython3",
   "version": "3.9.13"
  }
 },
 "nbformat": 4,
 "nbformat_minor": 5
}
